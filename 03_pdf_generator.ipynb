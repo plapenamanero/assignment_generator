{
 "cells": [
  {
   "cell_type": "markdown",
   "metadata": {},
   "source": [
    "# Notebook 3\n",
    "\n",
    "# Individual pdf generator\n",
    "\n",
    "In this notebook individual pdf files are created from the pdf file with all the sheets.\n",
    "\n",
    "The suggested workflow is to generate a pdf with the data stored in the \"variable\" sheet of data.xlsx using the correspondence utility in Microsoft Word. This notebooks uses the pdf created this way to generate individual pdf for each student."
   ]
  },
  {
   "cell_type": "markdown",
   "metadata": {},
   "source": [
    "## 1.- Import dependencies"
   ]
  },
  {
   "cell_type": "code",
   "execution_count": null,
   "metadata": {},
   "outputs": [],
   "source": [
    "from assignments import assignment\n",
    "from assignments import generate_pdf"
   ]
  },
  {
   "cell_type": "markdown",
   "metadata": {},
   "source": [
    "## 2.- Load assignment data from file"
   ]
  },
  {
   "cell_type": "code",
   "execution_count": null,
   "metadata": {},
   "outputs": [],
   "source": [
    "var = assignment.Assignment(True)"
   ]
  },
  {
   "cell_type": "markdown",
   "metadata": {},
   "source": [
    "## 3.- Sheet configuration\n",
    "\n",
    "This parameter were configured in the general configuration of the assignment, but it is possible to change this configuration using the methods **set_ns()** (number of pdf pages per assignment) and **set_password()**. Set password to an empty string or to False (boolean not text) to disable password protection. Passwords containing only white spaces are considered as empty strings, and thus password protection is disabled."
   ]
  },
  {
   "cell_type": "code",
   "execution_count": null,
   "metadata": {},
   "outputs": [],
   "source": [
    "# Number of pages per sheet\n",
    "var.set_ns(3)"
   ]
  },
  {
   "cell_type": "code",
   "execution_count": null,
   "metadata": {},
   "outputs": [],
   "source": [
    "# Password (False para dejar sin password)\n",
    "var.set_password('prueba')"
   ]
  },
  {
   "cell_type": "markdown",
   "metadata": {},
   "source": [
    "## 4.- Create sheets"
   ]
  },
  {
   "cell_type": "code",
   "execution_count": null,
   "metadata": {},
   "outputs": [],
   "source": [
    "generate_pdf.create_pdfs(var)"
   ]
  }
 ],
 "metadata": {
  "kernelspec": {
   "display_name": "Python 3",
   "language": "python",
   "name": "python3"
  },
  "language_info": {
   "codemirror_mode": {
    "name": "ipython",
    "version": 3
   },
   "file_extension": ".py",
   "mimetype": "text/x-python",
   "name": "python",
   "nbconvert_exporter": "python",
   "pygments_lexer": "ipython3",
   "version": "3.8.8"
  }
 },
 "nbformat": 4,
 "nbformat_minor": 4
}
