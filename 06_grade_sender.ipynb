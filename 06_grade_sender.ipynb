{
 "cells": [
  {
   "cell_type": "markdown",
   "id": "f357be27",
   "metadata": {},
   "source": [
    "# Notebook 6\n",
    "\n",
    "# Results sender\n",
    "\n",
    "Use this notebook to send an email with their results to students"
   ]
  },
  {
   "cell_type": "markdown",
   "id": "21cff0f0",
   "metadata": {},
   "source": [
    "## 1.- Import dependencies"
   ]
  },
  {
   "cell_type": "code",
   "execution_count": null,
   "id": "7d281b7f",
   "metadata": {},
   "outputs": [],
   "source": [
    "from assignments import assignment\n",
    "from assignments import office_365_mail\n",
    "\n",
    "import warnings\n",
    "warnings.filterwarnings(\"ignore\", category=DeprecationWarning)"
   ]
  },
  {
   "cell_type": "markdown",
   "id": "67d11886",
   "metadata": {},
   "source": [
    "## 2.- Load assignment data from file"
   ]
  },
  {
   "cell_type": "code",
   "execution_count": null,
   "id": "14b55c19",
   "metadata": {},
   "outputs": [],
   "source": [
    "var = assignment.Assignment(True)"
   ]
  },
  {
   "cell_type": "markdown",
   "id": "117c20d3",
   "metadata": {},
   "source": [
    "## 3.- Configure Office 365"
   ]
  },
  {
   "cell_type": "code",
   "execution_count": null,
   "id": "b76eb05e",
   "metadata": {},
   "outputs": [],
   "source": [
    "# Load credentials from credentials.json\n",
    "credentials = office_365_mail.load_credentials('resources/credentials.json')\n",
    "# Office 365 login\n",
    "account = office_365_mail.o365_login(credentials['id_app'], credentials['secret'])"
   ]
  },
  {
   "cell_type": "code",
   "execution_count": null,
   "id": "6f035508",
   "metadata": {},
   "outputs": [],
   "source": [
    "# Header for grading table\n",
    "titles = ['Respuestas', 'Soluciones', 'Puntos']"
   ]
  },
  {
   "cell_type": "markdown",
   "id": "41f85775",
   "metadata": {},
   "source": [
    "## 4.- Send test email"
   ]
  },
  {
   "cell_type": "code",
   "execution_count": null,
   "id": "1d2f4bbf",
   "metadata": {},
   "outputs": [],
   "source": [
    "email = 'plapena@ucsc.cl'\n",
    "sent = office_365_mail.send_grade_test_email(account, var, email, titles)"
   ]
  },
  {
   "cell_type": "markdown",
   "id": "9599428d",
   "metadata": {},
   "source": [
    "## 5.- Send email list"
   ]
  },
  {
   "cell_type": "code",
   "execution_count": null,
   "id": "89e9a8d2",
   "metadata": {},
   "outputs": [],
   "source": [
    "sent = office_365_mail.send_grade_list(account, var, titles)"
   ]
  }
 ],
 "metadata": {
  "kernelspec": {
   "display_name": "Python [conda env:.conda-generadorTareas] *",
   "language": "python",
   "name": "conda-env-.conda-generadorTareas-py"
  },
  "language_info": {
   "codemirror_mode": {
    "name": "ipython",
    "version": 3
   },
   "file_extension": ".py",
   "mimetype": "text/x-python",
   "name": "python",
   "nbconvert_exporter": "python",
   "pygments_lexer": "ipython3",
   "version": "3.8.8"
  }
 },
 "nbformat": 4,
 "nbformat_minor": 5
}
