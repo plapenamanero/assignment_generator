{
 "cells": [
  {
   "cell_type": "markdown",
   "id": "e2fd52fd",
   "metadata": {},
   "source": [
    "# System configuration"
   ]
  },
  {
   "cell_type": "markdown",
   "id": "cbfb45e2",
   "metadata": {},
   "source": [
    "## 1.- Create json files with the credentials for Office 365 access\n",
    "\n",
    "The system uses the package O365 ([GitHub](https://github.com/O365/python-o365)). Please follow the instructions of the authors to create the Azure app needed for authentification.\n",
    "\n",
    "The next cell produces a JSON file with your app data. Tis file can be reused as long as your app does not change.The file is stored in resources folder, to use in another assignment just copy the *credentials.json* file to the resources folder in the new assignment."
   ]
  },
  {
   "cell_type": "code",
   "execution_count": 1,
   "id": "d9c6d11a",
   "metadata": {},
   "outputs": [],
   "source": [
    "import json\n",
    "\n",
    "id_app = None # paste your Azude app ID here\n",
    "secret = None # Paste your Azure app secret here\n",
    "\n",
    "credentials = {'id_app': id_app, 'secret': secret}\n",
    "\n",
    "with open('resources/credentials.json', 'w') as of:\n",
    "    json.dump(credentials, of, indent=4)"
   ]
  },
  {
   "cell_type": "markdown",
   "id": "d4bd912e",
   "metadata": {},
   "source": [
    "## 2.- Prepare a blank excel file for student list"
   ]
  },
  {
   "cell_type": "code",
   "execution_count": null,
   "id": "81984768",
   "metadata": {},
   "outputs": [],
   "source": [
    "import pandas as pd\n",
    "import os\n",
    "\n",
    "def create_student_list_template(student_list_name):\n",
    "    excel_list = pd.DataFrame(columns = ['number', 'id', 'name', 'email'])\n",
    "    excel_list.to_excel(student_list_name, index=False)"
   ]
  },
  {
   "cell_type": "code",
   "execution_count": null,
   "id": "413a4512",
   "metadata": {},
   "outputs": [],
   "source": [
    "create_student_list_template('student_list.xlsx')"
   ]
  },
  {
   "cell_type": "markdown",
   "id": "bdbd6847",
   "metadata": {},
   "source": [
    "## 3.- Prepare student list from a file in different format\n",
    "\n",
    "The package is prepared to receive student data in a predefined format (see the previous step to get a blank template).\n",
    "In this section an example on how to create a compatible student list with from a list with different layout is shown."
   ]
  },
  {
   "cell_type": "code",
   "execution_count": null,
   "id": "a8e6f660",
   "metadata": {},
   "outputs": [],
   "source": [
    "from assignments import gui\n",
    "import pandas as pd\n",
    "import numpy as np\n",
    "import os\n",
    "\n",
    "# loads file with student data\n",
    "list_to_format_path = gui.excel_file()\n",
    "list_to_format = pd.read_excel(list_to_format_path)\n",
    "list_to_format"
   ]
  },
  {
   "cell_type": "code",
   "execution_count": null,
   "id": "4a2f6488",
   "metadata": {},
   "outputs": [],
   "source": [
    "def create_student_list(name_column, id_column, email_column, file_name):\n",
    "    #extract Series with names\n",
    "    names = list_to_format[name_column]\n",
    "\n",
    "    # extract Series with ID\n",
    "    ids = list_to_format[id_column]\n",
    "    # removes verification digit\n",
    "    ids = ids.astype(str).str[0:8]\n",
    "\n",
    "    # extract Series with email\n",
    "    emails = list_to_format[email_column]\n",
    "\n",
    "    # create DataFrame with the extracted data\n",
    "    DataFrame = {'name': names, 'id': ids, 'email': emails}\n",
    "    student_list = pd.DataFrame(DataFrame)\n",
    "\n",
    "    # adds numbers\n",
    "    student_list['number'] = np.arange(len(student_list)) + 1\n",
    "\n",
    "    # saves DataFrame to file\n",
    "    student_list_file = os.path.join('gen', file_name)\n",
    "    student_list.to_excel(student_list_file, index=False)"
   ]
  },
  {
   "cell_type": "code",
   "execution_count": null,
   "id": "34827bf0",
   "metadata": {},
   "outputs": [],
   "source": [
    "name_column = 'name'\n",
    "id_column = 'id'\n",
    "email_column = 'email'\n",
    "student_list_file_name = 'student_list_formatted.xlsx'\n",
    "create_student_list(name_column, id_column, email_column, student_list_file_name)"
   ]
  },
  {
   "cell_type": "code",
   "execution_count": null,
   "id": "f7efba57",
   "metadata": {},
   "outputs": [],
   "source": [
    "import pandas as pd\n",
    "df=pd.DataFrame(['Text to copy'])\n",
    "df.to_clipboard(index=False,header=False)"
   ]
  }
 ],
 "metadata": {
  "kernelspec": {
   "display_name": "Python 3",
   "language": "python",
   "name": "python3"
  },
  "language_info": {
   "codemirror_mode": {
    "name": "ipython",
    "version": 3
   },
   "file_extension": ".py",
   "mimetype": "text/x-python",
   "name": "python",
   "nbconvert_exporter": "python",
   "pygments_lexer": "ipython3",
   "version": "3.8.8"
  }
 },
 "nbformat": 4,
 "nbformat_minor": 5
}
